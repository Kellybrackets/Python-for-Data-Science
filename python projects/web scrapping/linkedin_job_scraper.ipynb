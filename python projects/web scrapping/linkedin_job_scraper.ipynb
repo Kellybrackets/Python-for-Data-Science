{
 "cells": [
  {
   "cell_type": "code",
   "execution_count": null,
   "id": "cb4f708c-8047-4a79-ac9a-94ad2c006eaf",
   "metadata": {},
   "outputs": [],
   "source": [
    "# LinkedIn Job Scraper\n",
    "from bs4 import BeautifulSoup\n",
    "import requests\n",
    "import pandas as pd\n",
    "\n",
    "def scrape_linkedin_jobs(keyword, location, pages=3):\n",
    "    base_url = \"https://www.linkedin.com/jobs/search/\"\n",
    "    jobs = []\n",
    "    \n",
    "    for page in range(pages):\n",
    "        params = {\n",
    "            'keywords': keyword,\n",
    "            'location': location,\n",
    "            'start': page * 25\n",
    "        }\n",
    "        response = requests.get(base_url, params=params)\n",
    "        soup = BeautifulSoup(response.text, 'html.parser')\n",
    "        \n",
    "        for item in soup.find_all('div', class_='base-card'):\n",
    "            title = item.find('h3').text.strip()\n",
    "            company = item.find('h4').text.strip()\n",
    "            location = item.find('span', class_='job-search-card__location').text.strip()\n",
    "            link = item.find('a')['href'].split('?')[0]\n",
    "            \n",
    "            jobs.append({\n",
    "                'Title': title,\n",
    "                'Company': company,\n",
    "                'Location': location,\n",
    "                'Link': link,\n",
    "                'Date': datetime.date.today()\n",
    "            })\n",
    "    \n",
    "    return pd.DataFrame(jobs)\n",
    "\n",
    "# Example usage\n",
    "jobs_df = scrape_linkedin_jobs(\"Data Scientist\", \"United States\")\n",
    "jobs_df.to_csv('data_science_jobs.csv', index=False)\n",
    "\n",
    "# Analysis\n",
    "print(f\"Total jobs found: {len(jobs_df)}\")\n",
    "print(\"\\nTop Companies:\")\n",
    "print(jobs_df['Company'].value_counts().head(5))"
   ]
  }
 ],
 "metadata": {
  "kernelspec": {
   "display_name": "Python [conda env:base] *",
   "language": "python",
   "name": "conda-base-py"
  },
  "language_info": {
   "codemirror_mode": {
    "name": "ipython",
    "version": 3
   },
   "file_extension": ".py",
   "mimetype": "text/x-python",
   "name": "python",
   "nbconvert_exporter": "python",
   "pygments_lexer": "ipython3",
   "version": "3.12.7"
  }
 },
 "nbformat": 4,
 "nbformat_minor": 5
}
