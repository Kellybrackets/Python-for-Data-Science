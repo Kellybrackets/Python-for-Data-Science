{
 "cells": [
  {
   "cell_type": "code",
   "execution_count": 1,
   "id": "513f3835-ba66-491e-ad6e-18f5e4e55a24",
   "metadata": {},
   "outputs": [],
   "source": [
    "# Stock Price Tracker\n",
    "import requests\n",
    "from bs4 import BeautifulSoup\n",
    "import smtplib\n",
    "import time\n",
    "import csv\n",
    "import datetime"
   ]
  },
  {
   "cell_type": "code",
   "execution_count": null,
   "id": "1eff6d2b-d335-4962-8852-60edc4a12032",
   "metadata": {},
   "outputs": [],
   "source": [
    "def get_stock_price(ticker):\n",
    "    url = f\"https://finance.yahoo.com/quote/{ticker}\"\n",
    "    headers = {\"User-Agent\": \"Mozilla/5.0\"}\n",
    "    page = requests.get(url, headers=headers)\n",
    "    soup = BeautifulSoup(page.content, 'html.parser')\n",
    "    price = soup.find('fin-streamer', {'data-symbol': ticker}).text\n",
    "    return float(price.replace(',', ''))\n",
    "\n",
    "def log_price(ticker, price):\n",
    "    today = datetime.date.today()\n",
    "    with open(f'{ticker}_prices.csv', 'a', newline='') as f:\n",
    "        writer = csv.writer(f)\n",
    "        writer.writerow([today, price])\n",
    "\n",
    "def send_alert(ticker, price, threshold, direction):\n",
    "    server = smtplib.SMTP_SSL('smtp.gmail.com', 465)\n",
    "    server.login('your_email@gmail.com', 'app_password')\n",
    "    subject = f\"{ticker} Alert: Price {'above' if direction == 'up' else 'below'} ${threshold}!\"\n",
    "    body = f\"Current {ticker} price: ${price}\"\n",
    "    server.sendmail('your_email@gmail.com', 'recipient@email.com', f\"Subject: {subject}\\n\\n{body}\")\n",
    "    server.quit()\n",
    "\n",
    "# Main loop\n",
    "ticker = \"AAPL\"\n",
    "upper_threshold = 180\n",
    "lower_threshold = 160\n",
    "\n",
    "while True:\n",
    "    price = get_stock_price(ticker)\n",
    "    log_price(ticker, price)\n",
    "    \n",
    "    if price >= upper_threshold:\n",
    "        send_alert(ticker, price, upper_threshold, 'up')\n",
    "    elif price <= lower_threshold:\n",
    "        send_alert(ticker, price, lower_threshold, 'down')\n",
    "    \n",
    "    time.sleep(3600)  # Check hourly"
   ]
  }
 ],
 "metadata": {
  "kernelspec": {
   "display_name": "Python [conda env:base] *",
   "language": "python",
   "name": "conda-base-py"
  },
  "language_info": {
   "codemirror_mode": {
    "name": "ipython",
    "version": 3
   },
   "file_extension": ".py",
   "mimetype": "text/x-python",
   "name": "python",
   "nbconvert_exporter": "python",
   "pygments_lexer": "ipython3",
   "version": "3.12.7"
  }
 },
 "nbformat": 4,
 "nbformat_minor": 5
}
